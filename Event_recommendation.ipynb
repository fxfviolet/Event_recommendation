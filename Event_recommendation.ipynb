{
 "cells": [
  {
   "cell_type": "markdown",
   "metadata": {},
   "source": [
    "#  活动推荐算法\n",
    "    \n",
    "Event Recommendation Engine Challenge是Kaggle上的一个推荐任务竞赛，根据用户的历史参加活动记录、社交信息以及在 App上浏览和点击的活动，预测用户是否会对某个活动感兴趣。\n",
    "\n",
    "根据协同过滤算法原理，采用3种算法预测用户对活动的感兴趣程度：    \n",
    "1. 基于用户的协同过滤(用户本身，用户好友分析)；     \n",
    "2. 基于活动的协同过滤(活动本身，用户活动关联分析)；     \n",
    "3. 基于模型的协同过滤。   "
   ]
  },
  {
   "cell_type": "markdown",
   "metadata": {},
   "source": [
    "# 1.  数据分析"
   ]
  },
  {
   "cell_type": "code",
   "execution_count": 1,
   "metadata": {},
   "outputs": [],
   "source": [
    "import pandas as pd\n",
    "import numpy as np\n",
    "from numpy.random import random \n",
    "\n",
    "import scipy.sparse as ss\n",
    "import scipy.io as sio\n",
    "import scipy.spatial.distance as ssd\n",
    "\n",
    "from collections import defaultdict\n",
    "from sklearn.preprocessing import normalize\n",
    "from utils import FeatureEng\n",
    "\n",
    "import itertools\n",
    "import pickle\n",
    "\n",
    "from sklearn.metrics import mean_squared_error\n",
    "\n",
    "import matplotlib.pyplot as plt"
   ]
  },
  {
   "cell_type": "code",
   "execution_count": 2,
   "metadata": {},
   "outputs": [
    {
     "name": "stdout",
     "output_type": "stream",
     "text": [
      "训练集和测试集中用户总数： 3391\n",
      "训练集和测试集中事件总数： 13418\n"
     ]
    }
   ],
   "source": [
    "#  统计训练集和测试集中的用户('user')和活动('event') \n",
    "\n",
    "uniqueUsers = set()\n",
    "uniqueEvents = set() \n",
    "\n",
    "for filename in ['train.csv','test.csv']:\n",
    "    f = open(filename)\n",
    "    f.readline().strip().split(',')       \n",
    "    for line in f:\n",
    "        cols = line.strip().split(',')\n",
    "        uniqueUsers.add(cols[0])         \n",
    "        uniqueEvents.add(cols[1])         \n",
    "    f.close()\n",
    "        \n",
    "n_uniqueUsers = len(uniqueUsers)\n",
    "n_uniqueEvents = len(uniqueEvents)\n",
    "print('训练集和测试集中用户总数：',n_uniqueUsers)\n",
    "print('训练集和测试集中活动总数：',n_uniqueEvents)\n",
    "\n",
    "userIndex = dict()\n",
    "eventIndex = dict()\n",
    "\n",
    "for i,u in enumerate(uniqueUsers):\n",
    "    userIndex[u] = i\n",
    "for i,e in enumerate(uniqueEvents):\n",
    "    eventIndex[e] = i\n",
    "\n",
    "pickle.dump(userIndex,open('userIndex.pkl','wb'))\n",
    "pickle.dump(eventIndex,open('eventIndex.pkl','wb'))"
   ]
  },
  {
   "cell_type": "markdown",
   "metadata": {},
   "source": [
    "统计训练集和测试集中的用户('user')和活动('event')，构建用户和活动索引字典：         \n",
    "1) userIndex.pkl文件： 保存 {‘用户’：索引} 字典：{'3389282421': 0, '1066372954': 1, '2010045207': 2, . . .}       \n",
    "2) eventIndex.pkl文件：保存 {‘活动’：索引} 字典：{'2223895704': 0, '3923328825': 1, '1184964740': 2, . . .}      "
   ]
  },
  {
   "cell_type": "code",
   "execution_count": 53,
   "metadata": {},
   "outputs": [],
   "source": [
    "# 统计'用户-活动'关系 \n",
    "\n",
    "eventsForUser = defaultdict(set)   \n",
    "usersForEvent = defaultdict(set)\n",
    "\n",
    "userEventScores = ss.dok_matrix((n_uniqueUsers, n_uniqueEvents)) \n",
    "\n",
    "ftrain = open('train.csv')\n",
    "ftrain.readline() \n",
    "for line in ftrain:\n",
    "    cols = line.strip().split(',')\n",
    "    i = userIndex[cols[0]]          \n",
    "    j = eventIndex[cols[1]]          \n",
    "    \n",
    "    eventsForUser[i].add(j)          \n",
    "    usersForEvent[j].add(i)         \n",
    "    \n",
    "    score = int(cols[4])\n",
    "    userEventScores[i,j] = score     \n",
    "ftrain.close()\n",
    "\n",
    "pickle.dump(eventsForUser,open('eventsForUser.pkl','wb')) \n",
    "pickle.dump(usersForEvent,open('usersForEvent.pkl','wb'))\n",
    "\n",
    "sio.mmwrite('userEventScores',userEventScores)"
   ]
  },
  {
   "cell_type": "markdown",
   "metadata": {},
   "source": [
    "统计'用户-活动'关系:      \n",
    "1) eventsForUser.pkl文件：保存‘用户参加的活动’：{用户：{参加的活动}} -> {1437: {11779, 2022, 9447, 7081, 1501, 11806}, 2491: {9475, 12103, 9320, 8592, 4273, 10228, 10325}, . . .}         \n",
    "2) usersForEvent.pkl文件：保存‘参加活动的用户’：{参加的活动：{用户}} -> {9447: {1433, 1437}, 1501: {1321, 868, 1437, 846}, . . .}     \n",
    "3) userEventScores.mtx文件：保存‘用户对活动的兴趣’：{(用户,活动) 兴趣} ->        \n",
    "(1437, 2022)\t1.0        \n",
    "(2491, 10325)\t1.0        \n",
    "(2491, 8592)\t1.0         \n",
    ". . .    \n",
    "userEventScores.getrow(i).todense()可获得索引号为i的用户对所有活动的兴趣，比如对于2491号用户：[[0. 0. 0. ... 0. 0. 0.]]     "
   ]
  },
  {
   "cell_type": "code",
   "execution_count": 62,
   "metadata": {},
   "outputs": [],
   "source": [
    "# 统计关联用户和关联活动 \n",
    "\n",
    "uniqueUserPairs = set() \n",
    "uniqueEventPairs = set() \n",
    "\n",
    "for event in uniqueEvents:\n",
    "    i = eventIndex[event]         \n",
    "    users = usersForEvent[i]      \n",
    "    if len(users)>2:\n",
    "        uniqueUserPairs.update(itertools.combinations(users,2))  \n",
    "\n",
    "for user in uniqueUsers:            \n",
    "    u = userIndex[user]           \n",
    "    events = eventsForUser[u]     \n",
    "    if len(events)>2:\n",
    "        uniqueEventPairs.update(itertools.combinations(events,2))  \n",
    "        \n",
    "pickle.dump(uniqueUserPairs,open('uniqueUserPairs.pkl','wb'))\n",
    "pickle.dump(uniqueEventPairs,open('uniqueEventPairs.pkl','wb'))"
   ]
  },
  {
   "cell_type": "markdown",
   "metadata": {},
   "source": [
    "统计关联用户和关联活动:       \n",
    "1) uniqueUserPairs.pkl文件：参加某一活动的所有用户，形成的两两用户对，即关联用户：{(234, 3007), (2912, 1979), (2197, 533), (681, 1396), (1417, 3028), (3306, 3335), (2167, 3339), (849, 1982), . . .}       \n",
    "2) uniuqeEventPairs.pkl文件：某个用户参加的所有活动，形成的两两活动对，即关联活动：{(4001, 12866), (2261, 2169), (10614, 4855), (10036, 3480), (612, 2088), (2758, 5259), (161, 5787), (6304, 12369), . . .}     "
   ]
  },
  {
   "cell_type": "code",
   "execution_count": 6,
   "metadata": {},
   "outputs": [
    {
     "data": {
      "text/html": [
       "<div>\n",
       "<style scoped>\n",
       "    .dataframe tbody tr th:only-of-type {\n",
       "        vertical-align: middle;\n",
       "    }\n",
       "\n",
       "    .dataframe tbody tr th {\n",
       "        vertical-align: top;\n",
       "    }\n",
       "\n",
       "    .dataframe thead th {\n",
       "        text-align: right;\n",
       "    }\n",
       "</style>\n",
       "<table border=\"1\" class=\"dataframe\">\n",
       "  <thead>\n",
       "    <tr style=\"text-align: right;\">\n",
       "      <th></th>\n",
       "      <th>user_id</th>\n",
       "      <th>locale</th>\n",
       "      <th>birthyear</th>\n",
       "      <th>gender</th>\n",
       "      <th>joinedAt</th>\n",
       "      <th>location</th>\n",
       "      <th>timezone</th>\n",
       "    </tr>\n",
       "  </thead>\n",
       "  <tbody>\n",
       "    <tr>\n",
       "      <th>0</th>\n",
       "      <td>3197468391</td>\n",
       "      <td>id_ID</td>\n",
       "      <td>1993</td>\n",
       "      <td>male</td>\n",
       "      <td>2012-10-02T06:40:55.524Z</td>\n",
       "      <td>Medan  Indonesia</td>\n",
       "      <td>480.0</td>\n",
       "    </tr>\n",
       "    <tr>\n",
       "      <th>1</th>\n",
       "      <td>3537982273</td>\n",
       "      <td>id_ID</td>\n",
       "      <td>1992</td>\n",
       "      <td>male</td>\n",
       "      <td>2012-09-29T18:03:12.111Z</td>\n",
       "      <td>Medan  Indonesia</td>\n",
       "      <td>420.0</td>\n",
       "    </tr>\n",
       "    <tr>\n",
       "      <th>2</th>\n",
       "      <td>823183725</td>\n",
       "      <td>en_US</td>\n",
       "      <td>1975</td>\n",
       "      <td>male</td>\n",
       "      <td>2012-10-06T03:14:07.149Z</td>\n",
       "      <td>Stratford  Ontario</td>\n",
       "      <td>-240.0</td>\n",
       "    </tr>\n",
       "    <tr>\n",
       "      <th>3</th>\n",
       "      <td>1872223848</td>\n",
       "      <td>en_US</td>\n",
       "      <td>1991</td>\n",
       "      <td>female</td>\n",
       "      <td>2012-11-04T08:59:43.783Z</td>\n",
       "      <td>Tehran  Iran</td>\n",
       "      <td>210.0</td>\n",
       "    </tr>\n",
       "    <tr>\n",
       "      <th>4</th>\n",
       "      <td>3429017717</td>\n",
       "      <td>id_ID</td>\n",
       "      <td>1995</td>\n",
       "      <td>female</td>\n",
       "      <td>2012-09-10T16:06:53.132Z</td>\n",
       "      <td>NaN</td>\n",
       "      <td>420.0</td>\n",
       "    </tr>\n",
       "  </tbody>\n",
       "</table>\n",
       "</div>"
      ],
      "text/plain": [
       "      user_id locale birthyear  gender                  joinedAt  \\\n",
       "0  3197468391  id_ID      1993    male  2012-10-02T06:40:55.524Z   \n",
       "1  3537982273  id_ID      1992    male  2012-09-29T18:03:12.111Z   \n",
       "2   823183725  en_US      1975    male  2012-10-06T03:14:07.149Z   \n",
       "3  1872223848  en_US      1991  female  2012-11-04T08:59:43.783Z   \n",
       "4  3429017717  id_ID      1995  female  2012-09-10T16:06:53.132Z   \n",
       "\n",
       "             location  timezone  \n",
       "0    Medan  Indonesia     480.0  \n",
       "1    Medan  Indonesia     420.0  \n",
       "2  Stratford  Ontario    -240.0  \n",
       "3        Tehran  Iran     210.0  \n",
       "4                 NaN     420.0  "
      ]
     },
     "execution_count": 6,
     "metadata": {},
     "output_type": "execute_result"
    }
   ],
   "source": [
    "# 读取文件‘users.csv’,用于对输入特征进行特征编码\n",
    "\n",
    "users = pd.read_csv('users.csv')\n",
    "users.head()"
   ]
  },
  {
   "cell_type": "code",
   "execution_count": 21,
   "metadata": {},
   "outputs": [],
   "source": [
    "# 对在训练集和测试集中出现的user_id对应的输入特征进行特征编码\n",
    "\n",
    "userIndex = pickle.load(open('userIndex.pkl','rb'))\n",
    "n_users = len(userIndex)\n",
    "\n",
    "FE = FeatureEng.FeatureEng()                    \n",
    "n_cols = users.shape[1]-1 \n",
    "userMatrix = ss.dok_matrix((n_users, n_cols))   \n",
    "\n",
    "cols = ['LocaleId', 'BirthYearInt', 'GenderId', 'JoinedYearMonth', 'CountryId', 'TimezoneInt'] \n",
    "for u in range(len(users)): \n",
    "    userId = str(users.loc[u,'user_id'])                                 \n",
    "    if userId in userIndex.keys():                                      \n",
    "        i = userIndex[userId]                                            \n",
    "        userMatrix[i,0] = FE.getLocaleId(users.loc[u,'locale'])          \n",
    "        userMatrix[i,1] = FE.getBirthYearInt(users.loc[u,'birthyear'])\n",
    "        userMatrix[i,2] = FE.getGenderId(users.loc[u,'gender'])\n",
    "        userMatrix[i,3] = FE.getJoinedYearMonth(users.loc[u,'joinedAt'])\n",
    "        userMatrix[i,4] = FE.getCountryId(users.loc[u,'location'])     \n",
    "        userMatrix[i,5] = FE.getTimezoneInt(users.loc[u,'timezone'])\n",
    "        \n",
    "userMatrix = normalize(userMatrix, norm=\"l2\", axis=0, copy=False)\n",
    "sio.mmwrite('userMatrix', userMatrix)"
   ]
  },
  {
   "cell_type": "code",
   "execution_count": 23,
   "metadata": {},
   "outputs": [],
   "source": [
    "# 计算关联用户的相似度 \n",
    "\n",
    "userSimMatrix = ss.dok_matrix((n_users,n_users))\n",
    "for i in range(n_users):             \n",
    "    userSimMatrix[i,i] = 1.0            \n",
    "\n",
    "uniqueUserPairs = pickle.load(open('uniqueUserPairs.pkl','rb'))   \n",
    "for u1,u2 in uniqueUserPairs: \n",
    "    i = u1 \n",
    "    j = u2 \n",
    "    if (i,j) not in userSimMatrix.keys():\n",
    "        usim = ssd.correlation(userMatrix.getrow(i).todense(),userMatrix.getrow(j).todense())  \n",
    "        userSimMatrix[i,j] = usim \n",
    "        userSimMatrix[j,i] = usim \n",
    "sio.mmwrite('userSimMatrix',userSimMatrix)\n"
   ]
  },
  {
   "cell_type": "markdown",
   "metadata": {},
   "source": [
    "用户属性的特征编码和关联用户的相似度:           \n",
    "1) userMatrix.mtx文件保存用户的特征编码：    \n",
    "   (861, 0)\t0.021628856085564065     \n",
    "   (1356, 0)\t0.011957416372506963    \n",
    "    . . .    \n",
    "   (1785, 5)\t-0.01303142053748795    \n",
    "   (2847, 5)\t0.020850272859980718    \n",
    "    . . .       \n",
    "userMatrix.getrow(i).todense()可以读取索引号为i的用户的特征，比如第861号用户的特征为：[[ 0.02162886  0.01728704  0.01196254  0.01770409  0.         -0.01303142]] \n",
    "\n",
    "2) userSimMatrix文件保存关联用户的相似度：(关联用户在文件uniqueUserPairs.pkl中)            \n",
    "  (828, 1821)\t1.3388248003500465       \n",
    "  (147, 466)\t0.7114964412756368    \n",
    "  (466, 147)\t0.7114964412756368     \n",
    "   . . . "
   ]
  },
  {
   "cell_type": "code",
   "execution_count": 20,
   "metadata": {},
   "outputs": [],
   "source": [
    "# 对在训练集和测试集中出现的event_id对应的输入特征进行特征编码\n",
    "\n",
    "userIndex = pickle.load(open('eventIndex.pkl','rb'))\n",
    "n_events = len(eventIndex)\n",
    "\n",
    "FE = FeatureEng.FeatureEng()\n",
    "eventPropMatrix = ss.dok_matrix((n_events, 7))    \n",
    "eventContMatrix = ss.dok_matrix((n_events, 101))  \n",
    "\n",
    "import linecache                                        \n",
    "fevent = linecache.getlines(\"events.csv\") \n",
    "for line in fevent: \n",
    "    cols = line.strip().split(\",\")\n",
    "    eventId = str(cols[0])\n",
    "    if eventId in eventIndex.keys():                                    \n",
    "        i = eventIndex[eventId]                                         \n",
    "        eventPropMatrix[i,0] = FE.getJoinedYearMonth(cols[2])              \n",
    "        eventPropMatrix[i,1] = FE.getFeatureHash(cols[3].encode('utf-8'))  \n",
    "        eventPropMatrix[i,2] = FE.getFeatureHash(cols[4].encode('utf-8'))  \n",
    "        eventPropMatrix[i,3] = FE.getFeatureHash(cols[5].encode('utf-8')) \n",
    "        eventPropMatrix[i,4] = FE.getFeatureHash(cols[6].encode('utf-8'))  \n",
    "        eventPropMatrix[i,5] = FE.getFloatValue(cols[7])                   \n",
    "        eventPropMatrix[i,6] = FE.getFloatValue(cols[8])                   \n",
    "        for j in range(9, 110):                                          \n",
    "            eventContMatrix[i,j-9] = cols[j]\n",
    "linecache.clearcache()\n",
    "\n",
    "eventPropMatrxi = normalize(eventPropMatrix,norm='l2',axis=0,copy=False)\n",
    "sio.mmwrite('eventPropMatrix',eventPropMatrix)\n",
    "\n",
    "eventContMatrix = normalize(eventContMatrix,norm='l2',axis=0,copy=False)\n",
    "sio.mmwrite('eventContMatrix', eventContMatrix)"
   ]
  },
  {
   "cell_type": "code",
   "execution_count": 21,
   "metadata": {},
   "outputs": [
    {
     "name": "stderr",
     "output_type": "stream",
     "text": [
      "C:\\Users\\l\\Anaconda3\\lib\\site-packages\\scipy\\spatial\\distance.py:644: RuntimeWarning: invalid value encountered in double_scalars\n",
      "  dist = 1.0 - uv / np.sqrt(uu * vv)\n"
     ]
    }
   ],
   "source": [
    "# 计算关联活动的相似度\n",
    "\n",
    "eventPropSim = ss.dok_matrix((n_events, n_events))   \n",
    "eventContSim = ss.dok_matrix((n_events, n_events))  \n",
    "\n",
    "uniqueEventPairs = pickle.load(open('uniqueEventPairs.pkl', 'rb')) \n",
    "\n",
    "for e1, e2 in uniqueEventPairs:\n",
    "    i = e1\n",
    "    j = e2  \n",
    "    if (i,j) not in eventPropSim.keys():       \n",
    "        epsim = ssd.correlation(eventPropMatrix.getrow(i).todense(),eventPropMatrix.getrow(j).todense()) \n",
    "        eventPropSim[i,j] = epsim\n",
    "        eventPropSim[j,i] = epsim\n",
    "    if (i,j) not in eventContSim.keys():     \n",
    "        ecsim = ssd.cosine(eventContMatrix.getrow(i).todense(),eventContMatrix.getrow(j).todense())\n",
    "        eventContSim[i,j] = epsim\n",
    "        eventContSim[j,i] = epsim\n",
    "\n",
    "sio.mmwrite('eventPropSim', eventPropSim)\n",
    "sio.mmwrite('eventContSim', eventContSim)"
   ]
  },
  {
   "cell_type": "markdown",
   "metadata": {},
   "source": [
    "活动的特征编码和关联活动的相似度:  \n",
    "1) eventPropMatrix.mtx文件保存非词频的特征编码:  \n",
    "  (9020, 0)\t34.0   \n",
    "  (9020, 1)\t-1.0   \n",
    "  (9020, 2)\t-1.0   \n",
    "   . . .     \n",
    "2) eventContMatrix.mtx文件保存词频的特征编码：  \n",
    "  (9020, 0)\t0.03457021969314784    \n",
    "  (5079, 0)\t0.03457021969314784     \n",
    "  (11304, 0)\t0.01728510984657392  \n",
    "  . . .    \n",
    "3) eventPropSim.mtx文件保存关联活动非词频特征的相似度：(关联用户在文件uniqueEventPairs.pkl中)     \n",
    "4) eventContSim.mtx文件保存关联活动词频特征的相似度     "
   ]
  },
  {
   "cell_type": "code",
   "execution_count": 34,
   "metadata": {},
   "outputs": [],
   "source": [
    "# 统计‘用户-好友’对活动的兴趣\n",
    "\n",
    "numFriends = np.zeros((n_users))                           \n",
    "userFriends = ss.dok_matrix((n_users, n_users))\n",
    "\n",
    "import linecache                                         \n",
    "fri = linecache.getlines(\"user_friends.csv\") \n",
    "for line in fri:                                     \n",
    "    cols = line.strip().split(\",\")\n",
    "    user = str(cols[0])                                 \n",
    "    if user in userIndex.keys():                        \n",
    "        friends = cols[1].split(\" \")                  \n",
    "        i = userIndex[user]                            \n",
    "        numFriends[i] = len(friends)                  \n",
    "        for friend in friends:                       \n",
    "            str_friend = str(friend)\n",
    "            if str_friend in userIndex.keys():        \n",
    "                j = userIndex[str_friend]             \n",
    "                newuser_score = userEventScores.getrow(j).todense()          \n",
    "                score = newuser_score .sum() / np.shape(newuser_score)[1]    \n",
    "                userFriends[i,j] += score                                    \n",
    "                userFriends[j,i] += score  \n",
    "linecache.clearcache()\n",
    " \n",
    "sumNumFriends = numFriends.sum(axis=0)\n",
    "numFriends = numFriends / sumNumFriends\n",
    "sio.mmwrite('numFriends', np.matrix(numFriends))\n",
    "\n",
    "userFriends = normalize(userFriends, norm=\"l2\", axis=0, copy=False)\n",
    "sio.mmwrite('userFriends', userFriends)"
   ]
  },
  {
   "cell_type": "markdown",
   "metadata": {},
   "source": [
    "统计‘用户-好友’对活动的兴趣：     \n",
    "1) numFriends.mtx文件保存用户的朋友总数     \n",
    "2) userFriends.mtx文件保存用户的好友对活动的兴趣：       \n",
    "  (3028, 19)\t1.0    \n",
    "  (3272, 221)\t1.0      \n",
    "   . . .     \n",
    "  (2044, 237)\t0.4472135954999579    \n",
    "  (1550, 237)\t0.8944271909999159     \n",
    "    . . .    "
   ]
  },
  {
   "cell_type": "code",
   "execution_count": 40,
   "metadata": {},
   "outputs": [],
   "source": [
    "# 统计某个活动，参加和不参加的人数，计算活动热度\n",
    "\n",
    "eventIndex = pickle.load(open(\"eventIndex.pkl\", 'rb'))\n",
    "n_events = len(eventIndex)\n",
    "eventPopularity = ss.dok_matrix((n_events,1))\n",
    "\n",
    "import linecache  \n",
    "event_file = linecache.getlines('event_attendees.csv') \n",
    "for line in event_file:  \n",
    "    cols = line.strip().split(',')\n",
    "    eventId = str(cols[0])\n",
    "    if eventId in eventIndex.keys():\n",
    "        i = eventIndex[eventId]                                                    \n",
    "        eventPopularity[i,0] = len(cols[1].split(' ')) - len(cols[4].split(' '))   \n",
    "\n",
    "eventPopularity = normalize(eventPopularity,norm='l1',axis=0,copy=False)\n",
    "sio.mmwrite('eventPopularity',eventPopularity)"
   ]
  },
  {
   "cell_type": "markdown",
   "metadata": {},
   "source": [
    "计算活动热度:  \n",
    "1) eventPopularity.mtx文件保存活动活跃度：\n",
    "[[ 0.        ]\n",
    " [ 0.        ]\n",
    " [ 0.        ]\n",
    " ...\n",
    " [ 0.        ]\n",
    " [-0.00145762]\n",
    " [ 0.        ]]"
   ]
  },
  {
   "cell_type": "markdown",
   "metadata": {},
   "source": [
    " --------------------------------------------------------\n",
    "小结1：   \n",
    "分析数据集中的用户('user')和活动('event')属性，主要分析结果保存为文件，具体包括：        \n",
    "1) userIndex和eventIndex： 分别是{‘用户’：索引} 和 {‘活动’：索引} 字典，部分具体数据为：{'2223895704': 0, '3923328825': 1, '1184964740': 2, . . .}\n",
    "\n",
    "2) eventsForUser和usersForEvent：分别是‘用户参加的活动’-> {用户：{参加的活动}}和‘参加活动的用户’-> {参加的活动：{用户}}，部分具体数据为： {1437: {11779, 2022, 9447, 7081, 1501, 11806}, 2491: {9475, 12103, 9320, 8592, 4273, 10228, 10325}, . . .}\n",
    "\n",
    "3) userEventScores：是‘用户对活动的兴趣’-> {(用户,活动) 兴趣} ，部分具体数据为：  \n",
    "(1437, 2022) 1.0\n",
    "(2491, 10325) 1.0\n",
    "(2491, 8592) 1.0\n",
    ". . .\n",
    "userEventScores.getrow(i).todense()可获得索引号为i的用户对所有活动的兴趣。\n",
    "\n",
    "4) uniqueUserPairs和uniuqeEventPairs：分别是关联用户和关联活动，关联用户是参加某一活动的所有用户，形成的两两用户对，关联活动是某个用户参加的所有活动，形成的两两活动对，部分具体数值为：{(234, 3007), (2912, 1979), (2197, 533), (681, 1396),  . . .}   \n",
    "\n",
    "5) userMatrix是用户属性的特征编码，userMatrix.getrow(i).todense()可以读取索引号为i的用户的特征。userSimMatrix是关联用户的相似度。\n",
    "\n",
    "6) eventPropMatrix是活动的非词频特征编码，eventContMatrix是活动的词频特征编码。eventPropSim是关联活动的非词频特征的相似度，eventContSim是关联活动词频特征的相似度。\n",
    "\n",
    "7) ‘用户-好友’对活动的兴趣：numFriends是用户的朋友总数；userFriends是用户的好友对活动的兴趣，部分具体数据为：  \n",
    "(3028, 19) 1.0\n",
    "(3272, 221) 1.0\n",
    ". . .\n",
    "(2044, 237) 0.4472135954999579\n",
    "(1550, 237) 0.8944271909999159\n",
    ". . . \n",
    "\n",
    "8) eventPopularity是活动活跃度： [[ 0. ] [ 0. ] [ 0. ] ... [ 0. ] [-0.00145762] [ 0. ]]\n"
   ]
  },
  {
   "cell_type": "markdown",
   "metadata": {},
   "source": [
    "-------------------------------------------------------------\n",
    "# 2.  数据读取   \n",
    "直接读取前面分析保存好的数据，读取的数据用于后面的协同过滤。"
   ]
  },
  {
   "cell_type": "code",
   "execution_count": 2,
   "metadata": {},
   "outputs": [],
   "source": [
    "# 读取上面数据分析保存的文件，对数据做初始化\n",
    "\n",
    "# 用户和活动索引\n",
    "userIndex = pickle.load(open('userIndex.pkl','rb'))\n",
    "eventIndex = pickle.load(open('eventIndex.pkl','rb'))\n",
    "n_users = len(userIndex)\n",
    "n_items = len(eventIndex)\n",
    "\n",
    "# 用户参加的活动和参加活动的用户\n",
    "itemsForUser = pickle.load(open('eventsForUser.pkl','rb'))\n",
    "usersForItem = pickle.load(open('usersForEvent.pkl','rb'))\n",
    "\n",
    "# 用户-活动关系矩阵 \n",
    "userEventScores = sio.mmread('userEventScores').todense()\n",
    "\n",
    "# 用户属性的特征编码和根据用户属性计算出的用户之间的相似度\n",
    "userMatrix = sio.mmread('userMatrix').todense()\n",
    "userSimMatrix = sio.mmread('userSimMatrix').todense()\n",
    "\n",
    "# 活动属性的特征编码和根据活动属性计算出的活动之间的相似度\n",
    "eventPropMatrix = sio.mmread('eventPropMatrix').todense()\n",
    "eventContMatrix = sio.mmread('eventContMatrix').todense()\n",
    "eventPropSim = sio.mmread('eventPropSim').todense() \n",
    "eventContSim = sio.mmread('eventContSim').todense() \n",
    "\n",
    "# 每个用户的朋友的数目和每个朋友参加活动的分数对该用户的影响\n",
    "numFriends = sio.mmread('numFriends')\n",
    "userFriends = sio.mmread('userFriends').todense()\n",
    "\n",
    "# 活动本身的热度\n",
    "eventPopularity = sio.mmread('eventPopularity').todense()\n"
   ]
  },
  {
   "cell_type": "code",
   "execution_count": 3,
   "metadata": {},
   "outputs": [
    {
     "name": "stdout",
     "output_type": "stream",
     "text": [
      "15398 3\n"
     ]
    }
   ],
   "source": [
    "# 读取训练集中的数据，并转化为列表格式，用来比较预测分值与实际分值的误差平方和\n",
    "\n",
    "dtrain = pd.read_csv('train.csv')\n",
    "data = dtrain[['user','event','interested']].values\n",
    "n,m = data.shape \n",
    "print(n,m)"
   ]
  },
  {
   "cell_type": "markdown",
   "metadata": {},
   "source": [
    "---------------------------------------------\n",
    "# 3.  实现基于用户的协同过滤（用户本身，用户好友分析）\n",
    "基于用户的协同过滤，用两种方法计算两个用户user_1和user_2之间的相似度，分别是：  \n",
    "1) 根据两个用户对活动打分的相似度；    \n",
    "2) 由用户本身的特征属性计算相似度。       \n",
    "再由已知用户对活动的评分(userEventScores‘用户对活动的兴趣’)计算用户对活动的推荐评分(兴趣)。 "
   ]
  },
  {
   "cell_type": "code",
   "execution_count": 7,
   "metadata": {},
   "outputs": [],
   "source": [
    "# 1) 根据两个用户对活动打分的相似度，预测用户对活动的兴趣\n",
    "\n",
    "userEventScores = np.mat(userEventScores)\n",
    "mean_userScores = np.mean(userEventScores,axis=1)        \n",
    "diff_userScores = userEventScores - mean_userScores       \n",
    "diff_userScores = np.array(diff_userScores)\n",
    "\n",
    "userInterestSim = ss.dok_matrix((n_users,n_users))       \n",
    "for i in range(n_users):             \n",
    "    userInterestSim[i,i] = 1.0                           \n",
    "    \n",
    "uniqueUserPairs = pickle.load(open('uniqueUserPairs.pkl','rb'))\n",
    "for u1,u2 in uniqueUserPairs:                           \n",
    "    i = u1 \n",
    "    j = u2 \n",
    "    if (i,j) not in userInterestSim.keys():                      \n",
    "        sim = sum(diff_userScores[i]*diff_userScores[j])\\\n",
    "        /np.sqrt(np.sum(np.power(diff_userScores[i],2)))/np.sqrt(np.sum(np.power(diff_userScores[j],2)))\n",
    "        userInterestSim[i,j] = sim                        \n",
    "        userInterestSim[j,i] = sim \n",
    "sio.mmwrite('userInterestSim',userInterestSim)\n"
   ]
  },
  {
   "cell_type": "code",
   "execution_count": 8,
   "metadata": {},
   "outputs": [],
   "source": [
    "# 由用户相似度计算用户对活动的推荐评分 \n",
    "\n",
    "user_similarity = sio.mmread('userInterestSim').todense()\n",
    "user_similarity = np.mat(user_similarity)\n",
    "user_similarity_sum =  np.sum(np.abs(user_similarity),axis=1)\n",
    "\n",
    "userEventScores = np.mat(userEventScores)\n",
    "mean_userScores = np.mean(userEventScores,axis=1)\n",
    "diff_userScores = userEventScores - mean_userScores \n",
    "\n",
    "userCFReco = mean_userScores + user_similarity * diff_userScores / user_similarity_sum\n",
    "sio.mmwrite('userCFReco',userCFReco)\n"
   ]
  },
  {
   "cell_type": "code",
   "execution_count": 10,
   "metadata": {},
   "outputs": [
    {
     "name": "stdout",
     "output_type": "stream",
     "text": [
      "训练集分值总的误差平方和 (rmse of train data is) :  0.5179708945175653\n"
     ]
    }
   ],
   "source": [
    "# 采用RMSE(mean_squared_error，总的误差平方和)作为评测标准，用来比较预测分值与实际分值，数值越小算法越好\n",
    "\n",
    "user_Reco = sio.mmread('userCFReco') \n",
    "user_Reco = np.mat(user_Reco)\n",
    "\n",
    "rmse_sum = 0.0    \n",
    "for i in range(n):\n",
    "    u_id = userIndex[str(data[i,0])]                             \n",
    "    e_id = eventIndex[str(data[i,1])]                             \n",
    "    rat = int(data[i,2])                                          \n",
    "    eui = rat - user_Reco[u_id,e_id]                              \n",
    "    rmse_sum += eui**2                                           \n",
    "print('训练集分值总的误差平方和 (rmse of train data is) : ',np.sqrt(rmse_sum/n))  "
   ]
  },
  {
   "cell_type": "code",
   "execution_count": 11,
   "metadata": {},
   "outputs": [],
   "source": [
    "# 2) 根据用户本身的特征属性计算相似度，再计算活动的推荐度\n",
    "\n",
    "userProSim = ss.dok_matrix((n_users,n_users))                    \n",
    "for i in range(n_users):             \n",
    "    userProSim[i,i] = 1.0                                       \n",
    "    \n",
    "uniqueUserPairs = pickle.load(open('uniqueUserPairs.pkl','rb'))\n",
    "for u1,u2 in uniqueUserPairs:                                  \n",
    "    i = u1 \n",
    "    j = u2 \n",
    "    if (i,j) not in userProSim.keys():                 \n",
    "        sim = ssd.correlation(userMatrix[i,:],userMatrix[j,:])    \n",
    "        userProSim[i,j] = sim                                                     \n",
    "        userProSim[j,i] = sim \n",
    "sio.mmwrite('userProSim',userProSim)\n"
   ]
  },
  {
   "cell_type": "code",
   "execution_count": 12,
   "metadata": {},
   "outputs": [],
   "source": [
    "# 由用户相似度计算用户对活动的推荐评分 \n",
    "\n",
    "userPro_similarity = sio.mmread('userProSim').todense()\n",
    "userPro_similarity = np.mat(userPro_similarity)\n",
    "userPro_similarity_sum = np.sum(np.abs(userPro_similarity),axis=1)\n",
    "\n",
    "userEventScores = np.mat(userEventScores)\n",
    "mean_userScores = np.mean(userEventScores,axis=1)\n",
    "diff_userScores = userEventScores - mean_userScores \n",
    "\n",
    "userReco = mean_userScores + userPro_similarity * diff_userScores / userPro_similarity_sum\n",
    "sio.mmwrite('userReco',userReco)"
   ]
  },
  {
   "cell_type": "code",
   "execution_count": 13,
   "metadata": {},
   "outputs": [
    {
     "name": "stdout",
     "output_type": "stream",
     "text": [
      "训练集分值总的误差平方和 (rmse of train data is) :  0.51793963498875\n"
     ]
    }
   ],
   "source": [
    "# 采用RMSE(mean_squared_error，总的误差平方和)作为评测标准，用来比较预测分值与实际分值，数值越小算法越好\n",
    "\n",
    "user_Reco = sio.mmread('userReco') \n",
    "user_Reco = np.mat(user_Reco)\n",
    "\n",
    "rmse_sum = 0.0    \n",
    "for i in range(n):\n",
    "    u_id = userIndex[str(data[i,0])]                             \n",
    "    e_id = eventIndex[str(data[i,1])]                           \n",
    "    rat = int(data[i,2])                                         \n",
    "    eui = rat - user_Reco[u_id,e_id]                             \n",
    "    rmse_sum += eui**2                                            \n",
    "print('训练集分值总的误差平方和 (rmse of train data is) : ',np.sqrt(rmse_sum/n))  "
   ]
  },
  {
   "cell_type": "markdown",
   "metadata": {},
   "source": [
    "小结3：  \n",
    "基于用户的协同过滤，用两种方法计算两个用户user_1和user_2之间的相似度，再预测用户对活动的评分，采用RMSE(总的误差平方和)作为评测标准，比较了训练集的预测分值与实际分值的误差平方和：     \n",
    "1) 根据两个用户对所有活动的打分，用Pearson相关系数(公式的第三种形式)计算两个用户的相似度，再由用户相似度计算用户对活动的推荐评分(userCFReco.mtx文件)，得到在训练集上预测分值与实际分值的误差平方和为：0.51797。   \n",
    "2) 根据用户本身的特征属性，用Pearson相关系数(公式的第一种形式)计算两个用户的相似度，再由用户相似度计算用户对活动的推荐评分(userReco.mtx文件)，得到在训练集上预测分值与实际分值的误差平方和为：0.51794。          \n",
    "由两种方法计算相似度得到的预测分值与实际分值的误差平方和相同。  \n"
   ]
  },
  {
   "cell_type": "markdown",
   "metadata": {},
   "source": [
    "-------------------------------------------\n",
    "# 4.  实现基于活动的协同过滤（活动本身，用户活动关联分析）\n",
    "基于活动的协同过滤，用两种方法计算两个活动event_1和event_2之间的相似度，分别是：  \n",
    "1) 根据两个活动打分的相似度；    \n",
    "2) 由活动本身的特征属性计算相似度。       \n",
    "再由已知用户对活动的评分(userEventScores‘用户对活动的兴趣’)计算用户对活动的推荐评分(兴趣)。 "
   ]
  },
  {
   "cell_type": "code",
   "execution_count": 26,
   "metadata": {},
   "outputs": [],
   "source": [
    "# 1) 根据用户对两个活动打分的相似度，计算活动的推荐度\n",
    "\n",
    "userEventScores = np.mat(userEventScores)\n",
    "mean_userScores = np.mean(userEventScores,axis=1)\n",
    "diff_userScores = userEventScores - mean_userScores \n",
    "diff_userScores = np.array(diff_userScores)\n",
    "\n",
    "eventInterestSim = ss.dok_matrix((n_items,n_items))\n",
    "for i in range(n_items):             \n",
    "    eventInterestSim[i,i] = 1.0                                         \n",
    "    \n",
    "uniqueEventPairs = pickle.load(open('uniuqeEventPairs.pkl','rb'))\n",
    "for e1,e2 in uniqueEventPairs:                                        \n",
    "    i = e1 \n",
    "    j = e2 \n",
    "    if (i,j) not in eventInterestSim.keys():                                \n",
    "        sim = sum(diff_userScores[:,i]*diff_userScores[:,j])\\\n",
    "        /np.sqrt(np.sum(np.power(diff_userScores[:,i],2)))/np.sqrt(np.sum(np.power(diff_userScores[:,j],2)))\n",
    "        eventInterestSim[i,j] = sim                        \n",
    "        eventInterestSim[j,i] = sim \n",
    "sio.mmwrite('eventInterestSim',eventInterestSim) \n",
    "   "
   ]
  },
  {
   "cell_type": "code",
   "execution_count": 27,
   "metadata": {},
   "outputs": [],
   "source": [
    "# 由活动相似度计算用户对活动的推荐评分 \n",
    "\n",
    "event_similarity = sio.mmread('eventInterestSim').todense() \n",
    "event_similarity = np.mat(event_similarity)\n",
    "event_similarity_sum = np.sum(np.abs(event_similarity),axis=0)\n",
    "\n",
    "userEventScores = np.mat(userEventScores)\n",
    "mean_userScores = np.mean(userEventScores,axis=1)\n",
    "diff_userScores = userEventScores - mean_userScores \n",
    "\n",
    "eventCFReco = mean_userScores + diff_userScores * event_similarity / event_similarity_sum\n",
    "sio.mmwrite('eventCFReco',eventCFReco)"
   ]
  },
  {
   "cell_type": "code",
   "execution_count": 14,
   "metadata": {},
   "outputs": [
    {
     "name": "stdout",
     "output_type": "stream",
     "text": [
      "训练集上预测分值与实际分值的误差平方和 (rmse of train data is) :  0.5181074097428295\n"
     ]
    }
   ],
   "source": [
    "# 采用RMSE(mean_squared_error，总的误差平方和)作为评测标准，用来比较预测分值与实际分值，数值越小算法越好\n",
    "\n",
    "event_Reco = sio.mmread('eventCFReco') \n",
    "event_Reco = np.mat(event_Reco)\n",
    "\n",
    "rmse_sum = 0.0    \n",
    "for i in range(n):\n",
    "    u_id = userIndex[str(data[i,0])]                             \n",
    "    e_id = eventIndex[str(data[i,1])]                              \n",
    "    rat = int(data[i,2])                                           \n",
    "    eui = rat - event_Reco[u_id,e_id]                              \n",
    "    rmse_sum += eui**2                                             \n",
    "print('训练集上预测分值与实际分值的误差平方和 (rmse of train data is) : ',np.sqrt(rmse_sum/n))  "
   ]
  },
  {
   "cell_type": "code",
   "execution_count": 22,
   "metadata": {},
   "outputs": [],
   "source": [
    "# 2) 根据活动本身的特征属性计算相似度，再计算活动的推荐度\n",
    "\n",
    "# 忽略错误信息\n",
    "import warnings\n",
    "warnings.filterwarnings('ignore')\n",
    "\n",
    "eventPropMatrix = np.mat(eventPropMatrix)           \n",
    "mean_eventProp = np.mean(eventPropMatrix,axis=1)\n",
    "diff_eventProp = eventPropMatrix - mean_eventProp\n",
    "diff_eventProp = np.array(diff_eventProp)\n",
    "\n",
    "eventContMatrix = np.mat(eventContMatrix)            \n",
    "mean_eventCont = np.mean(eventContMatrix,axis=1)\n",
    "diff_eventCont = eventContMatrix - mean_eventCont\n",
    "diff_eventCont = np.array(diff_eventCont)\n",
    "\n",
    "eventPropSim = ss.dok_matrix((n_items, n_items))     \n",
    "eventContSim = ss.dok_matrix((n_items, n_items))    \n",
    "\n",
    "for i in range(n_items):             \n",
    "    eventPropSim[i,i] = 1.0                        \n",
    "    eventContSim[i,i] = 1.0   \n",
    "\n",
    "uniqueEventPairs = pickle.load(open('uniqueEventPairs.pkl', 'rb'))         \n",
    "for e1, e2 in uniqueEventPairs:\n",
    "    i = e1\n",
    "    j = e2  \n",
    "    \n",
    "    if (i,j) not in eventPropSim.keys():        \n",
    "        epsim = sum(diff_eventProp[i]*diff_eventProp[j])\\\n",
    "        /np.sqrt(np.sum(np.power(diff_eventProp[i],2)))/np.sqrt(np.sum(np.power(diff_eventProp[j],2)))# 采用Person相关系数作为相似度\n",
    "        eventPropSim[i,j] = epsim\n",
    "        eventPropSim[j,i] = epsim\n",
    "        \n",
    "    if (i,j) not in eventContSim.keys():      \n",
    "        ecsim = sum(diff_eventCont[i]*diff_eventCont[j])\\\n",
    "        /np.sqrt(np.sum(np.power(diff_eventCont[i],2)))/np.sqrt(np.sum(np.power(diff_eventCont[j],2)))# 采用Person相关系数作为相似度\n",
    "        eventContSim[i,j] = ecsim\n",
    "        eventContSim[j,i] = ecsim\n",
    "\n",
    "sio.mmwrite('eventPropSimilarity', eventPropSim)\n",
    "sio.mmwrite('eventContSimilarity', eventContSim)"
   ]
  },
  {
   "cell_type": "code",
   "execution_count": 16,
   "metadata": {},
   "outputs": [],
   "source": [
    "# 由活动的非词频相似度计算用户对活动的推荐评分 \n",
    "\n",
    "eventProp_sim = sio.mmread('eventPropSimilarity').todense()\n",
    "eventProp_similarity = np.nan_to_num(eventProp_sim,0)\n",
    "eventProp_similarity = np.mat(eventProp_similarity)\n",
    "eventProp_similarity_sum = np.sum(np.abs(eventProp_similarity),axis=0)\n",
    "\n",
    "userEventScores = np.mat(userEventScores)\n",
    "mean_userScores = np.mean(userEventScores,axis=1)\n",
    "diff_userScores = userEventScores - mean_userScores \n",
    "\n",
    "eventPropReco = mean_userScores + diff_userScores * eventProp_similarity / eventProp_similarity_sum\n",
    "sio.mmwrite('eventPropReco',eventPropReco)\n",
    " "
   ]
  },
  {
   "cell_type": "code",
   "execution_count": 17,
   "metadata": {},
   "outputs": [],
   "source": [
    "# 由活动的词频相似度计算用户对活动的推荐评分 \n",
    "\n",
    "eventCont_sim = sio.mmread('eventContSimilarity').todense() \n",
    "eventCont_similarity = np.nan_to_num(eventCont_sim,0)\n",
    "eventCont_similarity = np.mat(eventCont_similarity)\n",
    "eventCont_similarity_sum = np.sum(np.abs(eventCont_similarity),axis=0)\n",
    "\n",
    "eventContReco = mean_userScores + diff_userScores * eventCont_similarity / eventCont_similarity_sum\n",
    "sio.mmwrite('eventContReco',eventContReco)\n"
   ]
  },
  {
   "cell_type": "code",
   "execution_count": 18,
   "metadata": {},
   "outputs": [
    {
     "name": "stdout",
     "output_type": "stream",
     "text": [
      "用非词频特征得到的预测分值与实际分值的误差平方和 (rmse of train data is) :  0.5180217304796338\n",
      "用词频特征得到的预测分值与实际分值的误差平方和 (rmse of train data is) :  0.5180217442246566\n"
     ]
    }
   ],
   "source": [
    "# 采用RMSE(mean_squared_error，总的误差平方和)作为评测标准，用来比较预测分值与实际分值，数值越小算法越好\n",
    "\n",
    "eventProp_Reco = sio.mmread('eventPropReco') \n",
    "eventProp_Reco = np.mat(eventProp_Reco)\n",
    "\n",
    "eventCont_Reco = sio.mmread('eventContReco')\n",
    "eventCont_Reco = np.mat(eventCont_Reco)\n",
    "\n",
    "rmse_sum_Prop = 0.0  \n",
    "rmse_sum_Cont = 0.0\n",
    "for i in range(n):\n",
    "    u_id = userIndex[str(data[i,0])]                              \n",
    "    e_id = eventIndex[str(data[i,1])]                              \n",
    "    rat = int(data[i,2])                                           \n",
    "    eui_Prop = rat - eventProp_Reco[u_id,e_id]                    \n",
    "    eui_Cont = rat - eventCont_Reco[u_id,e_id]\n",
    "    rmse_sum_Prop += eui_Prop**2                                 \n",
    "    rmse_sum_Cont += eui_Cont**2\n",
    "\n",
    "print('用非词频特征得到的预测分值与实际分值的误差平方和 (rmse of train data is) : ',np.sqrt(rmse_sum_Prop/n)) \n",
    "print('用词频特征得到的预测分值与实际分值的误差平方和 (rmse of train data is) : ',np.sqrt(rmse_sum_Cont/n))"
   ]
  },
  {
   "cell_type": "markdown",
   "metadata": {},
   "source": [
    "小结4：  \n",
    "基于活动的协同过滤，用两种方法计算两个活动event_1和event_2之间的相似度，再预测用户对活动的评分，采用RMSE(总的误差平方和)作为评测标准，比较了训练集的预测分值与实际分值的误差平方和：       \n",
    "1) 根据所有用户对两个不同活动的打分，用Pearson相关系数计算两个活动的相似度，再由活动相似度计算用户对活动的推荐评分(eventCFReco.mtx文件)，得到在训练集上预测分值与实际分值的误差平方和为：0.5181。      \n",
    "2) 根据活动本身的特征属性，分别对非词频特征和词频特征用Pearson相关系数计算两个活动的相似度，再由活动相似度计算用户对活动的推荐评分(eventPropReco.mtx和eventContReco.mtx文件)，得到非词频特征和词频特征在训练集上预测分值与实际分值的误差平方和分别为：0.5180和0.5180 (由上面运行结果看到从小数的第8位数字才开始不一样)。     \n",
    "由两种方法计算相似度得到的预测分值与实际分值的误差平方和相同，并且根据不同的特征属性，非词频特征和词频特征得到的误差平方和也是相同的。\n",
    " "
   ]
  },
  {
   "cell_type": "markdown",
   "metadata": {},
   "source": [
    "-------------------------------------------\n",
    "# 5.  实现基于模型的协同过滤"
   ]
  },
  {
   "cell_type": "code",
   "execution_count": 4,
   "metadata": {},
   "outputs": [],
   "source": [
    "# 定义一个函数，用来预测用户u_id对活动e_id的打分    \n",
    "\n",
    "def pred_SVD(u_id,e_id,bu,bi,puk,qki,ave):   \n",
    "    ans = ave + bu[u_id] + bi[e_id] + np.dot(puk[u_id,:],qki[:,e_id])\n",
    "    if ans > 1:\n",
    "        return 1 \n",
    "    elif ans < 0:\n",
    "        return 0 \n",
    "    return ans"
   ]
  },
  {
   "cell_type": "code",
   "execution_count": 33,
   "metadata": {},
   "outputs": [
    {
     "name": "stdout",
     "output_type": "stream",
     "text": [
      "when iter =  0 , rmse of train data is:  0.6529231104037342\n",
      "when iter =  1 , rmse of train data is:  0.3947279776024093\n",
      "when iter =  2 , rmse of train data is:  0.33922540893061015\n",
      "when iter =  3 , rmse of train data is:  0.3077794366825062\n",
      "when iter =  4 , rmse of train data is:  0.28641556707061094\n",
      "when iter =  5 , rmse of train data is:  0.2710218740318645\n",
      "when iter =  6 , rmse of train data is:  0.25944647969629103\n",
      "when iter =  7 , rmse of train data is:  0.2504978507947821\n",
      "when iter =  8 , rmse of train data is:  0.24339661903671095\n",
      "when iter =  9 , rmse of train data is:  0.2376389980894195\n",
      "when iter =  10 , rmse of train data is:  0.23288402773507164\n",
      "when iter =  11 , rmse of train data is:  0.22888921472666643\n",
      "when iter =  12 , rmse of train data is:  0.22548020782873723\n",
      "when iter =  13 , rmse of train data is:  0.22253196777965667\n",
      "when iter =  14 , rmse of train data is:  0.21995226759974704\n",
      "when iter =  15 , rmse of train data is:  0.21767027132417502\n",
      "when iter =  16 , rmse of train data is:  0.21563355460581898\n",
      "when iter =  17 , rmse of train data is:  0.21380084648808928\n",
      "when iter =  18 , rmse of train data is:  0.21213999882777165\n",
      "when iter =  19 , rmse of train data is:  0.2106253383693958\n"
     ]
    }
   ],
   "source": [
    "# 训练模型 \n",
    "\n",
    "np.random.seed(1)\n",
    "k = 20 \n",
    "bu = np.zeros(n_users)                            \n",
    "bi = np.zeros(n_items)                          \n",
    "puk = random((n_users,k))/10*(np.sqrt(k))     \n",
    "qki = random((k,n_items))/10*(np.sqrt(k))     \n",
    "ave = np.mean(data[:,2])                      \n",
    "\n",
    "maxIter = 20        \n",
    "gamma = 0.1        # 学习速度\n",
    "Lambda = 0.15      # 正则参数\n",
    "\n",
    "# 训练模型，采用RMSE(rmse)作为评测标准，数值越小算法越好\n",
    "rmse_iter = []\n",
    "for it in range(maxIter):  \n",
    "    rmse_sum = 0.0                                                       \n",
    "    for i in range(n):\n",
    "        u_id = userIndex[str(data[i,0])]                             \n",
    "        e_id = eventIndex[str(data[i,1])]                           \n",
    "        rat = int(data[i,2])                                       \n",
    "        eui = rat - pred_SVD(u_id,e_id,bu,bi,puk,qki,ave)         \n",
    "        rmse_sum += eui**2                                        \n",
    "        bu[u_id] += gamma*(eui-Lambda*bu[u_id])                \n",
    "        bi[e_id] += gamma*(eui-Lambda*bi[e_id]) \n",
    "        temp = puk[u_id,:]\n",
    "        puk[u_id,:] += gamma*(eui*qki[:,e_id]-Lambda*puk[u_id,:])\n",
    "        qki[:,e_id] += gamma*(eui*temp-Lambda*qki[:,e_id])\n",
    "    print('when iter = ',it,', rmse of train data is: ',np.sqrt(rmse_sum/n)) \n",
    "    rmse_iter.append(np.sqrt(rmse_sum/n))\n",
    "rmse_iter = np.array(rmse_iter)\n",
    "    \n",
    "# 由下面数据看到，随着迭代次数增大，误差平方和是下降的，并趋于稳定"
   ]
  },
  {
   "cell_type": "code",
   "execution_count": 35,
   "metadata": {},
   "outputs": [
    {
     "data": {
      "image/png": "[encoded data removed]",
      "text/plain": [
       "<matplotlib.figure.Figure at 0x179e2e10>"
      ]
     },
     "metadata": {},
     "output_type": "display_data"
    }
   ],
   "source": [
    "# 画出随着迭代次数的变化，误差平方和的变化\n",
    "\n",
    "plt.figure(figsize=(6,5))\n",
    "plt.plot(range(20),rmse_iter)\n",
    "plt.xlabel('iter')\n",
    "plt.ylabel('rmse')\n",
    "plt.show()"
   ]
  },
  {
   "cell_type": "code",
   "execution_count": 10,
   "metadata": {},
   "outputs": [
    {
     "name": "stdout",
     "output_type": "stream",
     "text": [
      "Lambda =  1e-05  rmse of train data is:  0.006836769276528758\n",
      "Lambda =  0.0001  rmse of train data is:  0.00027284848003831293\n",
      "Lambda =  0.001  rmse of train data is:  0.0026544641135271547\n",
      "Lambda =  0.01  rmse of train data is:  0.020302653627157788\n",
      "Lambda =  0.1  rmse of train data is:  0.13759993707892676\n",
      "Lambda =  1  rmse of train data is:  0.3204613291775001\n",
      "Lambda =  10  rmse of train data is:  0.4213292605704985\n"
     ]
    }
   ],
   "source": [
    "# 在不同的正则参数下训练模型 \n",
    "\n",
    "# 初始化模型参数\n",
    "np.random.seed(1)\n",
    "k = 20 \n",
    "bu = np.zeros(n_users)                            \n",
    "bi = np.zeros(n_items)                          \n",
    "puk = random((n_users,k))/10*(np.sqrt(k))       \n",
    "qki = random((k,n_items))/10*(np.sqrt(k))      \n",
    "ave = np.mean(data[:,2])                     \n",
    "\n",
    "# 定义一个模型训练函数 \n",
    "def train_SVD(Lambda,bu,bi,puk,qki,ave):\n",
    "    gamma = 0.1   \n",
    "    maxIter = 20\n",
    "    for it in range(maxIter):  \n",
    "        rmse_sum = 0.0                                                   \n",
    "        for i in range(n):\n",
    "            u_id = userIndex[str(data[i,0])]                         \n",
    "            e_id = eventIndex[str(data[i,1])]                           \n",
    "            rat = int(data[i,2])                                       \n",
    "            eui = rat - pred_SVD(u_id,e_id,bu,bi,puk,qki,ave)          \n",
    "            rmse_sum += eui**2                                       \n",
    "            bu[u_id] += gamma*(eui-Lambda*bu[u_id])                 \n",
    "            bi[e_id] += gamma*(eui-Lambda*bi[e_id]) \n",
    "            temp = puk[u_id,:]\n",
    "            puk[u_id,:] += gamma*(eui*qki[:,e_id]-Lambda*puk[u_id,:])\n",
    "            qki[:,e_id] += gamma*(eui*temp-Lambda*qki[:,e_id])\n",
    "    print('Lambda = ',Lambda, 'rmse of train data is: ',np.sqrt(rmse_sum/n)) \n",
    "    return np.sqrt(rmse_sum/n)\n",
    "    \n",
    "Lam = [0.00001,0.0001,0.001,0.01,0.1,1,10]\n",
    "rmse = []\n",
    "for Lambda in Lam:\n",
    "    rmse_sum = train_SVD(Lambda,bu,bi,puk,qki,ave)\n",
    "    rmse.append(rmse_sum)"
   ]
  },
  {
   "cell_type": "code",
   "execution_count": 32,
   "metadata": {},
   "outputs": [
    {
     "data": {
      "image/png": "[encoded data removed]",
      "text/plain": [
       "<matplotlib.figure.Figure at 0x18a77940>"
      ]
     },
     "metadata": {},
     "output_type": "display_data"
    }
   ],
   "source": [
    "# 画正则参数和误差平方和的关系\n",
    "\n",
    "plt.figure(figsize=(6,5))\n",
    "plt.plot(np.log10(Lam),rmse) \n",
    "plt.xlabel('log(Lambda)')\n",
    "plt.ylabel('rmse')\n",
    "plt.show()"
   ]
  },
  {
   "cell_type": "code",
   "execution_count": 6,
   "metadata": {},
   "outputs": [],
   "source": [
    "# 由上面结果得到，当Lambda = 0.0001时，误差平方和最小。因此预测Lambda = 0.0001时，用户对活动的打分,保存至文件svdCFReco.mtx\n",
    "\n",
    "svdCFReco = ss.dok_matrix((n_users,n_items))    # svd 用户-活动分值矩阵\n",
    "\n",
    "np.random.seed(1)\n",
    "k = 20 \n",
    "bu = np.zeros(n_users)                          \n",
    "bi = np.zeros(n_items)                           \n",
    "puk = random((n_users,k))/10*(np.sqrt(k))       \n",
    "qki = random((k,n_items))/10*(np.sqrt(k))    \n",
    "ave = np.mean(data[:,2])                      \n",
    "maxIter = 20        \n",
    "gamma = 0.1        \n",
    "Lambda = 0.0001       \n",
    "\n",
    "for it in range(maxIter):                                                   \n",
    "    for i in range(n):\n",
    "        u_id = userIndex[str(data[i,0])]                            \n",
    "        e_id = eventIndex[str(data[i,1])]    \n",
    "        rat = int(data[i,2])     \n",
    "        svdCFReco[u_id,e_id] = pred_SVD(u_id,e_id,bu,bi,puk,qki,ave)                                    \n",
    "        eui = rat - pred_SVD(u_id,e_id,bu,bi,puk,qki,ave) \n",
    "        bu[u_id] += gamma*(eui-Lambda*bu[u_id])                \n",
    "        bi[e_id] += gamma*(eui-Lambda*bi[e_id]) \n",
    "        temp = puk[u_id,:]\n",
    "        puk[u_id,:] += gamma*(eui*qki[:,e_id]-Lambda*puk[u_id,:])\n",
    "        qki[:,e_id] += gamma*(eui*temp-Lambda*qki[:,e_id])\n",
    "\n",
    "sio.mmwrite('svdCFReco',svdCFReco)\n"
   ]
  },
  {
   "cell_type": "markdown",
   "metadata": {},
   "source": [
    "小结5：    \n",
    "基于模型的协同过滤，通过对评分矩阵进行降维(puk * qki)和梯度下降法，在不同参数下(主要是改变正则参数Lambda)，预测用户对活动的评分，采用RMSE(总的误差平方和)作为评测标准，比较了训练集的预测分值与实际分值的误差平方和：    \n",
    "1) 随着迭代次数增大，误差平方和下降，并趋于稳定。对于Lambda = 0.015，当迭代次数为20次时，误差平方和下降为：0.2106。     \n",
    "2) 改变正则参数Lambda,在Lambda比较小的时候，误差平方和也比较小；随着Lambda增大，误差平方和迅速增大。当Lambda = 0.0001时，误差平方和最小，为：0.00027。    \n",
    "基于模型的协同过滤比基于用户和活动的协同过滤能更好的预测用户对活动的评分，并且正则参数Lambda对预测分值的影响非常大，在Lambda<1时，预测效果比较好。    "
   ]
  },
  {
   "cell_type": "markdown",
   "metadata": {},
   "source": [
    "--------------------------------------------------------\n",
    "# 6.  组合各种前面生成的特征，生成新的训练数据，并对数据进行保存 "
   ]
  },
  {
   "cell_type": "code",
   "execution_count": 11,
   "metadata": {},
   "outputs": [],
   "source": [
    "# 读取文件 \n",
    "\n",
    "userCFReco = sio.mmread('userCFReco')\n",
    "eventCFReco = sio.mmread('eventCFReco')\n",
    "svdCFReco = sio.mmread('svdCFReco').todense() \n",
    "\n",
    "userReco = sio.mmread('userReco')      \n",
    "eventProp_Reco = sio.mmread('eventPropReco')\n",
    "eventCont_Reco = sio.mmread('eventContReco')\n",
    "\n",
    "userPop = sio.mmread('numFriends')\n",
    "friendInfluence = sio.mmread('userFriends').todense() \n",
    "eventPop = sio.mmread('eventPopularity').todense()\n",
    " "
   ]
  },
  {
   "cell_type": "code",
   "execution_count": 4,
   "metadata": {},
   "outputs": [],
   "source": [
    "# 定义一个类，读取文件\n",
    "\n",
    "class RecommonderSystem:\n",
    "  \n",
    "    def __init__(self):\n",
    "\n",
    "        self.userCFReco = sio.mmread('userCFReco')\n",
    "        self.eventCFReco = sio.mmread('eventCFReco')\n",
    "        self.svdCFReco = sio.mmread('svdCFReco').todense() \n",
    "\n",
    "        self.userReco = sio.mmread('userReco')      \n",
    "        self.eventProp_Reco = sio.mmread('eventPropReco')\n",
    "        self.eventCont_Reco = sio.mmread('eventContReco')\n",
    "\n",
    "        self.userPop = sio.mmread('numFriends')\n",
    "        self.friendInfluence = sio.mmread('userFriends').todense() \n",
    "        self.eventPop = sio.mmread('eventPopularity').todense() \n",
    "\n",
    "        self.userIndex = pickle.load(open(\"userIndex.pkl\", 'rb'))\n",
    "        self.eventIndex = pickle.load(open(\"eventIndex.pkl\", 'rb'))\n",
    "        self.n_users = len(self.userIndex)\n",
    "        self.n_items = len(self.eventIndex)\n",
    "                      "
   ]
  },
  {
   "cell_type": "code",
   "execution_count": 9,
   "metadata": {},
   "outputs": [],
   "source": [
    "# 定义一个函数，把前面基于用户、活动、模型的协同过滤，以及生成的各种特征组合在一起，生成新的训练数据，并对数据进行保存\n",
    "\n",
    "def generateRSData(RS,train=True, header=True):\n",
    "    \n",
    "    fn = \"train.csv\" if train else \"test.csv\"\n",
    "    fin = open(fn)\n",
    "    fout = open(\"RS_\" + fn,'w')\n",
    "\n",
    "    fin.readline() \n",
    "    if header:\n",
    "        ocolnames = [\"invited\", \"userCF_reco\", \"evtCF_reco\",\"svdCF_reco\",\"user_reco\", \"evt_p_reco\",\\\n",
    "                     \"evt_c_reco\", \"user_pop\", \"frnd_infl\", \"evt_pop\"]\n",
    "        if train:\n",
    "            ocolnames.append(\"interested\")\n",
    "            ocolnames.append(\"not_interested\")\n",
    "        fout.write(\",\".join(ocolnames) + \"\\n\")\n",
    "                \n",
    "    ln = 0\n",
    "    for line in fin:\n",
    "        ln += 1 \n",
    "        if ln%500 == 0:\n",
    "            print('%s:%d (userId,eventId)=(%s,%s)' % (fn,ln,userId,eventId))\n",
    "            \n",
    "        cols = line.strip().split(',')\n",
    "        userId = userIndex[cols[0]]\n",
    "        eventId = eventIndex[cols[1]]\n",
    "        invited = cols[2]\n",
    "\n",
    "        userCF_reco = userCFReco[userId,eventId]\n",
    "        itemCF_reco = eventCFReco[userId,eventId]\n",
    "        svdCF_reco = svdCFReco[userId,eventId]\n",
    "\n",
    "        user_reco = userReco[userId,eventId]\n",
    "        evt_p_reco = eventProp_Reco[userId,eventId]\n",
    "        evt_c_reco = eventCont_Reco[userId,eventId]\n",
    "      \n",
    "        user_pop = userPop[0,userId]\n",
    "        frnd_infl = friendInfluence[userId].sum()\n",
    "        evt_pop = eventPop[eventId,0]\n",
    "        \n",
    "        ocols = [invited, userCF_reco, itemCF_reco, svdCF_reco,user_reco, evt_p_reco,evt_c_reco, user_pop, frnd_infl, evt_pop]\n",
    "        if train: \n",
    "            ocols.append(cols[4]) # interested\n",
    "            ocols.append(cols[5]) # not_interested \n",
    "        fout.write(\",\".join(map(lambda x: str(x), ocols)) + \"\\n\")\n",
    "    \n",
    "    fin.close()\n",
    "    fout.close()    "
   ]
  },
  {
   "cell_type": "code",
   "execution_count": 5,
   "metadata": {},
   "outputs": [],
   "source": [
    "RS = RecommonderSystem()"
   ]
  },
  {
   "cell_type": "code",
   "execution_count": 12,
   "metadata": {},
   "outputs": [
    {
     "name": "stdout",
     "output_type": "stream",
     "text": [
      "生成训练数据...\n",
      "train.csv:500 (userId,eventId)=(1211,8008)\n",
      "train.csv:1000 (userId,eventId)=(2460,5930)\n",
      "train.csv:1500 (userId,eventId)=(2257,3388)\n",
      "train.csv:2000 (userId,eventId)=(436,12870)\n",
      "train.csv:2500 (userId,eventId)=(1552,8147)\n",
      "train.csv:3000 (userId,eventId)=(179,12719)\n",
      "train.csv:3500 (userId,eventId)=(2290,13234)\n",
      "train.csv:4000 (userId,eventId)=(863,12923)\n",
      "train.csv:4500 (userId,eventId)=(3099,11919)\n",
      "train.csv:5000 (userId,eventId)=(1180,6926)\n",
      "train.csv:5500 (userId,eventId)=(404,9535)\n",
      "train.csv:6000 (userId,eventId)=(2260,2364)\n",
      "train.csv:6500 (userId,eventId)=(1960,9535)\n",
      "train.csv:7000 (userId,eventId)=(2900,10889)\n",
      "train.csv:7500 (userId,eventId)=(2021,3444)\n",
      "train.csv:8000 (userId,eventId)=(2545,4270)\n",
      "train.csv:8500 (userId,eventId)=(632,535)\n",
      "train.csv:9000 (userId,eventId)=(294,4698)\n",
      "train.csv:9500 (userId,eventId)=(1742,12762)\n",
      "train.csv:10000 (userId,eventId)=(47,88)\n",
      "train.csv:10500 (userId,eventId)=(461,7481)\n",
      "train.csv:11000 (userId,eventId)=(1762,1882)\n",
      "train.csv:11500 (userId,eventId)=(934,12733)\n",
      "train.csv:12000 (userId,eventId)=(943,1412)\n",
      "train.csv:12500 (userId,eventId)=(2632,6686)\n",
      "train.csv:13000 (userId,eventId)=(2215,3196)\n",
      "train.csv:13500 (userId,eventId)=(600,9913)\n",
      "train.csv:14000 (userId,eventId)=(1518,2991)\n",
      "train.csv:14500 (userId,eventId)=(2757,8300)\n",
      "train.csv:15000 (userId,eventId)=(41,11345)\n",
      "\n",
      "生成预测数据...\n",
      "test.csv:500 (userId,eventId)=(3173,3040)\n",
      "test.csv:1000 (userId,eventId)=(2677,10248)\n",
      "test.csv:1500 (userId,eventId)=(924,7807)\n",
      "test.csv:2000 (userId,eventId)=(1418,7370)\n",
      "test.csv:2500 (userId,eventId)=(2136,2626)\n",
      "test.csv:3000 (userId,eventId)=(775,3040)\n",
      "test.csv:3500 (userId,eventId)=(1879,7750)\n",
      "test.csv:4000 (userId,eventId)=(3287,9301)\n",
      "test.csv:4500 (userId,eventId)=(2830,8776)\n",
      "test.csv:5000 (userId,eventId)=(2191,3040)\n",
      "test.csv:5500 (userId,eventId)=(2975,11353)\n",
      "test.csv:6000 (userId,eventId)=(2820,3690)\n",
      "test.csv:6500 (userId,eventId)=(1609,10304)\n",
      "test.csv:7000 (userId,eventId)=(1197,8777)\n",
      "test.csv:7500 (userId,eventId)=(1816,5847)\n",
      "test.csv:8000 (userId,eventId)=(3227,12042)\n",
      "test.csv:8500 (userId,eventId)=(2337,1320)\n",
      "test.csv:9000 (userId,eventId)=(718,10120)\n",
      "test.csv:9500 (userId,eventId)=(747,5104)\n",
      "test.csv:10000 (userId,eventId)=(2911,3915)\n"
     ]
    }
   ],
   "source": [
    "print(\"生成训练数据...\")\n",
    "generateRSData(RS,train=True,  header=True)\n",
    "\n",
    "print(\"\\n生成预测数据...\")\n",
    "generateRSData(RS, train=False, header=True)"
   ]
  },
  {
   "cell_type": "markdown",
   "metadata": {},
   "source": [
    "小结6：     \n",
    "把前面基于用户、活动、模型的协同过滤，以及生成的各种特征组合在一起，生成新的训练数据，并保存新数据到文件RS_train.csv和RS_test.csv。"
   ]
  },
  {
   "cell_type": "markdown",
   "metadata": {},
   "source": [
    "----------------------------------------------------\n",
    "# 总结：  \n",
    "1) 分析数据集中的用户('user')和活动('event')属性，主要分析结果保存为文件，包括：userIndex和eventIndex，eventsForUser和usersForEvent，uniqueUserPairs和uniuqeEventPairs，userMatrix，eventPropMatrix，eventContMatrix，eventPropSim，eventContSim，numFriends，userFriendseventPopularity。 \n",
    "\n",
    "2) 基于用户的协同过滤，用两种方法计算两个用户user_1和user_2之间的相似度，再预测用户对活动的评分，采用RMSE(总的误差平方和)作为评测标准，比较了训练集的预测分值与实际分值的误差平方和。     \n",
    "2.1) 根据两个用户对所有活动的打分，用Pearson相关系数(公式的第三种形式)计算两个用户的相似度，再由用户相似度计算用户对活动的推荐评分(userCFReco.mtx文件)，得到在训练集上预测分值与实际分值的误差平方和为：0.51797。      \n",
    "2.2) 根据用户本身的特征属性，用Pearson相关系数(公式的第一种形式)计算两个用户的相似度，得到在训练集上预测分值与实际分值的误差平方和为：0.51794。      \n",
    "由两种方法计算相似度得到的预测分值与实际分值的误差平方和相同。\n",
    "\n",
    "3) 基于活动的协同过滤，用两种方法计算两个活动event_1和event_2之间的相似度，再预测用户对活动的评分，比较了训练集的预测分值与实际分值的误差平方和。     \n",
    "3.1) 根据所有用户对两个不同活动的打分，用Pearson相关系数计算两个活动的相似度，得到在训练集上预测分值与实际分值的误差平方和为：0.5181。   \n",
    "3.2) 根据活动本身的特征属性，分别对非词频特征和词频特征用Pearson相关系数计算两个活动的相似度，得到非词频特征和词频特征在训练集上预测分值与实际分值的误差平方和都是0.5180。       \n",
    "由两种方法计算相似度得到的预测分值与实际分值的误差平方和相同，并且根据不同的特征属性，非词频特征和词频特征得到的误差平方和也是相同的。   \n",
    "\n",
    "4) 基于模型的协同过滤，通过对评分矩阵进行降维(puk * qki)和梯度下降法，在不同参数下(主要是改变正则参数Lambda)，预测用户对活动的评分，比较了训练集的预测分值与实际分值的误差平方和。     \n",
    "4.1) 随着迭代次数增大，误差平方和下降，并趋于稳定。对于Lambda = 0.015，当迭代次数为20次时，误差平方和下降为：0.2106。     \n",
    "4.2) 改变正则参数Lambda,在Lambda比较小的时候，误差平方和也比较小；随着Lambda增大，误差平方和迅速增大。当Lambda = 0.0001时，误差平方和最小，为：0.00027。     \n",
    "\n",
    "5) 把前面基于用户、活动、模型的协同过滤，以及生成的各种特征组合在一起，生成新的训练数据，并保存新数据到文件RS_train.csv和RS_test.csv。 \n",
    "\n",
    "结论：       \n",
    "1)  基于用户和基于活动的协同过滤得到的误差平方和相同(相近)。     \n",
    "2) 基于模型的协同过滤比基于用户和活动的协同过滤能更好的预测用户对活动的评分，并且正则参数Lambda对预测分值的影响非常大，在Lambda<1时，预测效果比较好。    \n"
   ]
  },
  {
   "cell_type": "code",
   "execution_count": null,
   "metadata": {},
   "outputs": [],
   "source": []
  }
 ],
 "metadata": {
  "kernelspec": {
   "display_name": "Python 3",
   "language": "python",
   "name": "python3"
  },
  "language_info": {
   "codemirror_mode": {
    "name": "ipython",
    "version": 3
   },
   "file_extension": ".py",
   "mimetype": "text/x-python",
   "name": "python",
   "nbconvert_exporter": "python",
   "pygments_lexer": "ipython3",
   "version": "3.6.4"
  }
 },
 "nbformat": 4,
 "nbformat_minor": 2
}
